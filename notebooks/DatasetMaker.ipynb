{
 "cells": [
  {
   "cell_type": "code",
   "execution_count": 1,
   "id": "fantastic-alexander",
   "metadata": {},
   "outputs": [],
   "source": [
    "from src.recognizer import Recognizer\n",
    "import numpy as np\n",
    "import cv2\n",
    "import os\n",
    "import glob"
   ]
  },
  {
   "cell_type": "code",
   "execution_count": 2,
   "id": "extensive-argument",
   "metadata": {},
   "outputs": [],
   "source": [
    "# Set your own paths\n",
    "cross_directory = r'C:\\Users\\Vlad\\Desktop\\Го\\diagram-recognition\\dataset\\cross'\n",
    "white_directory = r'C:\\Users\\Vlad\\Desktop\\Го\\diagram-recognition\\dataset\\white'\n",
    "black_directory = r'C:\\Users\\Vlad\\Desktop\\Го\\diagram-recognition\\dataset\\black'\n",
    "\n",
    "dataset_size = 500\n",
    "cell_size_multiplier = 0.6\n",
    "paths = ['data/images/pages/chinese/1000_TsumeGo-6.png']\n",
    "save_crosses = True # Setting to true will slow calculations a bit even if we have dataset_size crosses"
   ]
  },
  {
   "cell_type": "code",
   "execution_count": 3,
   "id": "numeric-facial",
   "metadata": {},
   "outputs": [],
   "source": [
    "def set_diff2d(A, B):\n",
    "    nrows, ncols = A.shape\n",
    "    dtype={'names':['f{}'.format(i) for i in range(ncols)], 'formats':ncols * [A.dtype]}\n",
    "    C = np.setdiff1d(A.copy().view(dtype), B.copy().view(dtype))\n",
    "    return C\n",
    "\n",
    "def process_items(board, items, delta):\n",
    "    result = []\n",
    "    for item in items:\n",
    "        result.append(process_item(board, item, delta))\n",
    "    return result\n",
    "\n",
    "def process_item(board, item, delta):\n",
    "    y = item[0]\n",
    "    x = item[1]\n",
    "    item_img = board[max(x-delta,0):min(x+delta,board.shape[0]),max(y-delta,0):min(y+delta,board.shape[1])]\n",
    "    return item_img\n",
    "\n",
    "def save_items(directory, items, force_save = False):\n",
    "    latest_file_index = len(os.listdir(directory))\n",
    "    if (not force_save) and (latest_file_index > dataset_size):\n",
    "        return\n",
    "    os.chdir(directory)\n",
    "    quantity_to_save = min(len(items), dataset_size - latest_file_index)\n",
    "    for i in range(quantity_to_save):\n",
    "        filename = str(latest_file_index+i) + \".png\"\n",
    "        cv2.imwrite(filename, items[i])\n",
    "    \n",
    "def process_boards(boards, save_crosses):\n",
    "    for board in boards:\n",
    "        img_gray = cv2.cvtColor(board, cv2.COLOR_BGR2GRAY)\n",
    "        v_lines, h_lines = rec.lines_recognition(img_gray)\n",
    "        x_size, y_size = v_lines.shape[0], h_lines.shape[0]\n",
    "        intersections = rec.find_intersections(v_lines, h_lines)\n",
    "        cell_size = rec.get_cell_size(v_lines, h_lines)\n",
    "\n",
    "        stones, radius = rec.stones_recognition(img_gray, cell_size, intersections)\n",
    "        white_stones, black_stones = rec.colorize(img_gray, stones, radius)\n",
    "        intersections = np.reshape(intersections, (-1, 2))\n",
    "        delta = int(cell_size * cell_size_multiplier)\n",
    "\n",
    "        if save_crosses:\n",
    "            crosses = set_diff2d(intersections, np.concatenate((white_stones, black_stones)))\n",
    "            cross_imgs = process_items(board, crosses, delta)\n",
    "            save_items(cross_directory, cross_imgs)\n",
    "\n",
    "        white_imgs = process_items(board, white_stones, delta)\n",
    "        save_items(white_directory, white_imgs)\n",
    "\n",
    "        black_imgs = process_items(board, black_stones, delta)\n",
    "        save_items(black_directory, black_imgs)"
   ]
  },
  {
   "cell_type": "code",
   "execution_count": 4,
   "id": "subjective-cooperative",
   "metadata": {},
   "outputs": [],
   "source": [
    "rec = Recognizer()\n",
    "\n",
    "for path in paths:\n",
    "    img = cv2.imread(path, cv2.IMREAD_COLOR)\n",
    "    boards = rec.split_into_boards(img)\n",
    "    process_boards(boards, save_crosses)"
   ]
  }
 ],
 "metadata": {
  "kernelspec": {
   "display_name": "Python 3",
   "language": "python",
   "name": "python3"
  },
  "language_info": {
   "codemirror_mode": {
    "name": "ipython",
    "version": 3
   },
   "file_extension": ".py",
   "mimetype": "text/x-python",
   "name": "python",
   "nbconvert_exporter": "python",
   "pygments_lexer": "ipython3",
   "version": "3.8.8"
  }
 },
 "nbformat": 4,
 "nbformat_minor": 5
}
